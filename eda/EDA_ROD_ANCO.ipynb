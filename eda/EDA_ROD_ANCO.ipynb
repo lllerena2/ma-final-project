{
 "cells": [
  {
   "cell_type": "code",
   "execution_count": 73,
   "metadata": {},
   "outputs": [],
   "source": [
    "### Datos\n",
    "import pandas as pd\n",
    "import numpy as np\n",
    "\n",
    "#Graficos\n",
    "import matplotlib.pyplot as plt\n",
    "import plotly.express as px\n",
    "import seaborn as sns\n",
    "\n",
    "from sklearn import metrics, preprocessing\n",
    "from sklearn.cluster import KMeans\n",
    "from sklearn.metrics import silhouette_score\n",
    "\n",
    "# from yellowbrick.cluster import silhouette_visualizer\n",
    "\n",
    "#Sweetviz EDA\n",
    "import sweetviz as sv"
   ]
  },
  {
   "cell_type": "code",
   "execution_count": 74,
   "metadata": {},
   "outputs": [],
   "source": [
    "### Reusable functions\n",
    "\n",
    "def boxplot_resumen(df, y, columns_list):\n",
    "    n_varaibles = len(columns_list)\n",
    "    rows = round((n_varaibles/2)+0.1)\n",
    "    plt.figure(figsize=(12, 6*rows))\n",
    "    i = 1\n",
    "    for idx, plot in enumerate(columns_list):\n",
    "        ax1 = plt.subplot(rows, 2, i)\n",
    "        # create a subplot\n",
    "        sns.boxplot(data=df, x=y, y=plot, ax=ax1)\n",
    "        # formatting\n",
    "        ax1.set_title(\"Distribution for \" + plot,)\n",
    "        i += 1\n",
    "\n",
    "def histplot_resumen(df, y, columns_list):\n",
    "    n_varaibles = len(columns_list)\n",
    "    rows = round((n_varaibles/2)+0.1)\n",
    "    plt.figure(figsize=(12, 6*rows))\n",
    "    i = 1\n",
    "    for idx, plot in enumerate(columns_list):\n",
    "        ax1 = plt.subplot(rows, 2, i)\n",
    "        # create a subplot\n",
    "        sns.histplot(data=df, x=plot, ax=ax1, hue=y, multiple=\"stack\")\n",
    "        # formatting\n",
    "        ax1.set_title(\"Distribution for \" + plot,)\n",
    "        i += 1"
   ]
  },
  {
   "cell_type": "markdown",
   "metadata": {},
   "source": [
    "# DESCRIPCIÓN DEL PROBLEMA\n",
    "En el ámbito de los gasoductos, el ROD (rate of drop) se refiere a la velocidad con la que disminuye la presión en un espacio de tiempo determinado, expresado en unidades de psig por minuto. Para salvaguardar los gasoductos, se instalan válvulas automatizadas a lo largo de su infraestructura, y uno de los parámetros clave que se configura en estos dispositivos es el ROD. En esencia, cuando el equipo detecta que este valor se supera, toma automáticamente la decisión de cerrar o seccionar el gasoducto.\n",
    "\n",
    "\n",
    "El transporte de gas a través de tuberías a alta presión es un proceso caracterizado por cambios lentos en su comportamiento. En condiciones normales de operación, no se anticipan variaciones abruptas en la presión. Generalmente, el ROD puede originarse debido a roturas o fugas, la entrada o salida de equipos compresores, o cambios súbitos en las condiciones de flujo en los puntos de entrada y salida.\n",
    "\n",
    "\n",
    "Por tanto, es crucial configurar adecuadamente el ROD para garantizar que las protecciones se activen frente a condiciones anómalas de operación, preservando así la seguridad de todas las partes involucradas.\n",
    "El presente dataset corresponde a valores de ROD máximo y volumen a través de una fuga obtenidos a partir de las combinaciones de las siguientes variables:\n",
    "\n",
    "\n",
    "* leak_dia: diámetro en pulgadas de una rotura.\n",
    "* leak_distance: distancia de la rotura hasta el punto de medición del ROD.\n",
    "* pressure: presión de entrada al escenario en psig.\n",
    "* flow_pipe: flujo a través de la tubería en Mpcd.\n",
    "\n",
    "El propósito de este estudio es examinar las relaciones entre las variables previamente descritas y su capacidad para determinar el Rate of Drop (ROD) que se generará. Esta información se utilizará para establecer los valores óptimos de ROD a configurar en las líneas de transporte. El modelo busca responder preguntas específicas, tales como:\n",
    "\n",
    "\n",
    "* ¿Para una línea operando a una presión y flujo determinado, cuál es el ROD al que se debe configurar la protección para detectar una fuga de un diámetro equivalente en pulgadas? ¿Este ROD configurado corresponde a un flujo que pueda cambiar en condiciones normales de operación, como la entrada o salida de compresores, e incluso cambios en el flujo de las salidas o entradas de gas?\n",
    "\n",
    "\n",
    "* En caso de una rotura o fuga, ¿a qué ROD equivalente debo configurar la protección si no deseo ventear a la atmósfera una cantidad específica de gas? ¿A qué diámetro equivalente de fuga corresponde este volumen, considerando las condiciones operativas planteadas?\n",
    "Este estudio pretende proporcionar una comprensión detallada de cómo las variables interrelacionadas afectan el ROD, permitiendo así la determinación precisa de valores óptimos para la configuración de protecciones en las líneas de transporte de gas.\n"
   ]
  },
  {
   "attachments": {
    "imagen.png": {
     "image/png": "[encoded data removed]"
    }
   },
   "cell_type": "markdown",
   "metadata": {},
   "source": [
    "![imagen.png](attachment:imagen.png)"
   ]
  },
  {
   "cell_type": "markdown",
   "metadata": {},
   "source": [
    "# EDA"
   ]
  },
  {
   "cell_type": "code",
   "execution_count": 75,
   "metadata": {},
   "outputs": [
    {
     "data": {
      "text/html": [
       "<div>\n",
       "<style scoped>\n",
       "    .dataframe tbody tr th:only-of-type {\n",
       "        vertical-align: middle;\n",
       "    }\n",
       "\n",
       "    .dataframe tbody tr th {\n",
       "        vertical-align: top;\n",
       "    }\n",
       "\n",
       "    .dataframe thead th {\n",
       "        text-align: right;\n",
       "    }\n",
       "</style>\n",
       "<table border=\"1\" class=\"dataframe\">\n",
       "  <thead>\n",
       "    <tr style=\"text-align: right;\">\n",
       "      <th></th>\n",
       "      <th>ID</th>\n",
       "      <th>leak_dia</th>\n",
       "      <th>leak_distance</th>\n",
       "      <th>pressure</th>\n",
       "      <th>flow_pipe</th>\n",
       "      <th>rod</th>\n",
       "      <th>leak_flow</th>\n",
       "    </tr>\n",
       "  </thead>\n",
       "  <tbody>\n",
       "    <tr>\n",
       "      <th>0</th>\n",
       "      <td>0</td>\n",
       "      <td>3.5</td>\n",
       "      <td>15.3333</td>\n",
       "      <td>1190</td>\n",
       "      <td>76.752</td>\n",
       "      <td>31.966865</td>\n",
       "      <td>152.279497</td>\n",
       "    </tr>\n",
       "    <tr>\n",
       "      <th>1</th>\n",
       "      <td>1</td>\n",
       "      <td>3.5</td>\n",
       "      <td>7.6667</td>\n",
       "      <td>653</td>\n",
       "      <td>189.540</td>\n",
       "      <td>17.530478</td>\n",
       "      <td>93.460428</td>\n",
       "    </tr>\n",
       "    <tr>\n",
       "      <th>2</th>\n",
       "      <td>2</td>\n",
       "      <td>3.5</td>\n",
       "      <td>7.6667</td>\n",
       "      <td>653</td>\n",
       "      <td>58.729</td>\n",
       "      <td>16.312640</td>\n",
       "      <td>81.364855</td>\n",
       "    </tr>\n",
       "    <tr>\n",
       "      <th>3</th>\n",
       "      <td>3</td>\n",
       "      <td>3.5</td>\n",
       "      <td>7.6667</td>\n",
       "      <td>1016</td>\n",
       "      <td>76.752</td>\n",
       "      <td>26.121132</td>\n",
       "      <td>129.525084</td>\n",
       "    </tr>\n",
       "    <tr>\n",
       "      <th>4</th>\n",
       "      <td>4</td>\n",
       "      <td>3.5</td>\n",
       "      <td>15.3333</td>\n",
       "      <td>1016</td>\n",
       "      <td>189.540</td>\n",
       "      <td>22.906330</td>\n",
       "      <td>127.163212</td>\n",
       "    </tr>\n",
       "  </tbody>\n",
       "</table>\n",
       "</div>"
      ],
      "text/plain": [
       "   ID  leak_dia  leak_distance  pressure  flow_pipe        rod   leak_flow\n",
       "0   0       3.5        15.3333      1190     76.752  31.966865  152.279497\n",
       "1   1       3.5         7.6667       653    189.540  17.530478   93.460428\n",
       "2   2       3.5         7.6667       653     58.729  16.312640   81.364855\n",
       "3   3       3.5         7.6667      1016     76.752  26.121132  129.525084\n",
       "4   4       3.5        15.3333      1016    189.540  22.906330  127.163212"
      ]
     },
     "execution_count": 75,
     "metadata": {},
     "output_type": "execute_result"
    }
   ],
   "source": [
    "rod = pd.read_excel('../data/rod/simulation_results.xlsx')\n",
    "rod.head()"
   ]
  },
  {
   "cell_type": "markdown",
   "metadata": {},
   "source": [
    "Debido a que las variables rod y leak_flow son resultados de las otras, solo se evaluara el problema para hallar el ROD apropiado para la combinaciónd de variables"
   ]
  },
  {
   "cell_type": "code",
   "execution_count": 76,
   "metadata": {},
   "outputs": [],
   "source": [
    "#rod.drop(columns=['ID','leak_flow'], inplace=True)\n",
    "#rod_f = rod.drop(columns=['ID','rod'])\n",
    "#rod_rod = rod.drop(columns=['ID','leak_flow'])\n",
    "rod_rod = rod.drop(columns=['ID'])\n",
    "rod.drop(columns=['ID'], inplace=True)\n",
    "rod_nor = preprocessing.scale(rod_rod)"
   ]
  },
  {
   "cell_type": "code",
   "execution_count": 77,
   "metadata": {},
   "outputs": [
    {
     "data": {
      "text/plain": [
       "Text(0.5, 0, 'Número de clusters')"
      ]
     },
     "execution_count": 77,
     "metadata": {},
     "output_type": "execute_result"
    },
    {
     "data": {
      "image/png": "[encoded data removed]",
      "text/plain": [
       "<Figure size 1000x800 with 1 Axes>"
      ]
     },
     "metadata": {},
     "output_type": "display_data"
    }
   ],
   "source": [
    "plt.figure(figsize=(10,8))\n",
    "ss =[]\n",
    "maxRange = 10\n",
    "for i in range(2,maxRange):\n",
    "  kmeans = KMeans(n_clusters=i, init='k-means++')\n",
    "  kmeans.fit(rod_nor)\n",
    "  ss.append(silhouette_score(rod_nor, kmeans.labels_))\n",
    "plt.plot(range(2,maxRange), ss)\n",
    "plt.title('SS por número de clusters')\n",
    "plt.ylabel('SS')\n",
    "plt.xlabel('Número de clusters')"
   ]
  },
  {
   "cell_type": "code",
   "execution_count": 78,
   "metadata": {},
   "outputs": [
    {
     "data": {
      "text/plain": [
       "Text(0.5, 0, 'Número de clusters')"
      ]
     },
     "execution_count": 78,
     "metadata": {},
     "output_type": "execute_result"
    },
    {
     "data": {
      "image/png": "[encoded data removed]",
      "text/plain": [
       "<Figure size 1000x800 with 1 Axes>"
      ]
     },
     "metadata": {},
     "output_type": "display_data"
    }
   ],
   "source": [
    "plt.figure(figsize=(10,8))\n",
    "wscc =[]\n",
    "maxRange = 11\n",
    "for i in range(1,maxRange):\n",
    "  kmeans = KMeans(n_clusters=i, init='k-means++')\n",
    "  kmeans.fit(rod_nor)\n",
    "  wscc.append(kmeans.inertia_)\n",
    "\n",
    "plt.plot(range(1,maxRange), wscc)\n",
    "plt.title('WSCC por número de clusters')\n",
    "plt.ylabel('WSCC')\n",
    "plt.xlabel('Número de clusters')"
   ]
  },
  {
   "cell_type": "code",
   "execution_count": 107,
   "metadata": {},
   "outputs": [],
   "source": [
    "#Escojo un modelo de 2 cluster por tener el mayor ss\n",
    "kmeans = KMeans(n_clusters=2, init='k-means++')\n",
    "model = kmeans.fit(rod_nor)\n",
    "\n",
    "#Guardo los clusters en el rdb recodificado\n",
    "rod['Cluster'] = model.labels_"
   ]
  },
  {
   "cell_type": "code",
   "execution_count": 121,
   "metadata": {},
   "outputs": [
    {
     "data": {
      "text/plain": [
       "<Axes: >"
      ]
     },
     "execution_count": 121,
     "metadata": {},
     "output_type": "execute_result"
    },
    {
     "data": {
      "image/png": "[encoded data removed]",
      "text/plain": [
       "<Figure size 640x480 with 2 Axes>"
      ]
     },
     "metadata": {},
     "output_type": "display_data"
    }
   ],
   "source": [
    "sns.heatmap(rod.drop(columns=['Cluster']).corr(), annot=True)"
   ]
  },
  {
   "cell_type": "code",
   "execution_count": 108,
   "metadata": {},
   "outputs": [
    {
     "data": {
      "image/png": "[encoded data removed]",
      "text/plain": [
       "<Figure size 1200x600 with 2 Axes>"
      ]
     },
     "metadata": {},
     "output_type": "display_data"
    }
   ],
   "source": [
    "var = [ 'rod','leak_flow']\n",
    "boxplot_resumen(rod, 'leak_distance', var)"
   ]
  },
  {
   "cell_type": "code",
   "execution_count": 109,
   "metadata": {},
   "outputs": [
    {
     "data": {
      "image/png": "[encoded data removed]",
      "text/plain": [
       "<Figure size 1200x600 with 2 Axes>"
      ]
     },
     "metadata": {},
     "output_type": "display_data"
    }
   ],
   "source": [
    "var = [ 'rod','leak_flow']\n",
    "boxplot_resumen(rod, 'Cluster', var)"
   ]
  },
  {
   "cell_type": "code",
   "execution_count": 110,
   "metadata": {},
   "outputs": [
    {
     "data": {
      "image/png": "[encoded data removed]",
      "text/plain": [
       "<Figure size 1200x600 with 2 Axes>"
      ]
     },
     "metadata": {},
     "output_type": "display_data"
    }
   ],
   "source": [
    "var = [ 'rod','leak_flow']\n",
    "boxplot_resumen(rod, 'leak_dia', var)"
   ]
  },
  {
   "cell_type": "code",
   "execution_count": 111,
   "metadata": {},
   "outputs": [
    {
     "data": {
      "image/png": "[encoded data removed]",
      "text/plain": [
       "<Figure size 1200x600 with 2 Axes>"
      ]
     },
     "metadata": {},
     "output_type": "display_data"
    }
   ],
   "source": [
    "var = [ 'rod','leak_flow']\n",
    "boxplot_resumen(rod, 'pressure', var)"
   ]
  },
  {
   "cell_type": "code",
   "execution_count": 112,
   "metadata": {},
   "outputs": [
    {
     "data": {
      "image/png": "[encoded data removed]",
      "text/plain": [
       "<Figure size 1200x600 with 2 Axes>"
      ]
     },
     "metadata": {},
     "output_type": "display_data"
    }
   ],
   "source": [
    "var = [ 'rod','leak_flow']\n",
    "boxplot_resumen(rod, 'flow_pipe', var)"
   ]
  },
  {
   "cell_type": "code",
   "execution_count": 113,
   "metadata": {},
   "outputs": [
    {
     "name": "stderr",
     "output_type": "stream",
     "text": [
      "Done! Use 'show' commands to display/save.   |██████████| [100%]   00:00 -> (00:00 left)\n"
     ]
    }
   ],
   "source": [
    "report = sv.analyze(rod,target_feat='rod')\n",
    "#report.show_notebook()"
   ]
  },
  {
   "cell_type": "code",
   "execution_count": 115,
   "metadata": {},
   "outputs": [
    {
     "data": {
      "text/html": [
       "<div>\n",
       "<style scoped>\n",
       "    .dataframe tbody tr th:only-of-type {\n",
       "        vertical-align: middle;\n",
       "    }\n",
       "\n",
       "    .dataframe tbody tr th {\n",
       "        vertical-align: top;\n",
       "    }\n",
       "\n",
       "    .dataframe thead th {\n",
       "        text-align: right;\n",
       "    }\n",
       "</style>\n",
       "<table border=\"1\" class=\"dataframe\">\n",
       "  <thead>\n",
       "    <tr style=\"text-align: right;\">\n",
       "      <th></th>\n",
       "      <th>count</th>\n",
       "      <th>mean</th>\n",
       "      <th>std</th>\n",
       "      <th>min</th>\n",
       "      <th>25%</th>\n",
       "      <th>50%</th>\n",
       "      <th>75%</th>\n",
       "      <th>max</th>\n",
       "    </tr>\n",
       "    <tr>\n",
       "      <th>Cluster</th>\n",
       "      <th></th>\n",
       "      <th></th>\n",
       "      <th></th>\n",
       "      <th></th>\n",
       "      <th></th>\n",
       "      <th></th>\n",
       "      <th></th>\n",
       "      <th></th>\n",
       "    </tr>\n",
       "  </thead>\n",
       "  <tbody>\n",
       "    <tr>\n",
       "      <th>0</th>\n",
       "      <td>64.0</td>\n",
       "      <td>9.225605</td>\n",
       "      <td>4.333341</td>\n",
       "      <td>2.558591</td>\n",
       "      <td>5.521943</td>\n",
       "      <td>8.649848</td>\n",
       "      <td>13.712796</td>\n",
       "      <td>17.530478</td>\n",
       "    </tr>\n",
       "    <tr>\n",
       "      <th>1</th>\n",
       "      <td>71.0</td>\n",
       "      <td>26.338160</td>\n",
       "      <td>7.500817</td>\n",
       "      <td>15.885361</td>\n",
       "      <td>20.181039</td>\n",
       "      <td>24.740066</td>\n",
       "      <td>32.264969</td>\n",
       "      <td>44.053772</td>\n",
       "    </tr>\n",
       "  </tbody>\n",
       "</table>\n",
       "</div>"
      ],
      "text/plain": [
       "         count       mean       std        min        25%        50%  \\\n",
       "Cluster                                                                \n",
       "0         64.0   9.225605  4.333341   2.558591   5.521943   8.649848   \n",
       "1         71.0  26.338160  7.500817  15.885361  20.181039  24.740066   \n",
       "\n",
       "               75%        max  \n",
       "Cluster                        \n",
       "0        13.712796  17.530478  \n",
       "1        32.264969  44.053772  "
      ]
     },
     "execution_count": 115,
     "metadata": {},
     "output_type": "execute_result"
    }
   ],
   "source": [
    "rod.groupby(['Cluster']).describe()['rod']"
   ]
  },
  {
   "cell_type": "code",
   "execution_count": 116,
   "metadata": {},
   "outputs": [
    {
     "data": {
      "application/vnd.plotly.v1+json": {
       "config": {
        "plotlyServerURL": "https://plot.ly"
       },
       "data": [
        {
         "customdata": [
          [
           15.3333
          ],
          [
           7.6667
          ],
          [
           7.6667
          ],
          [
           7.6667
          ],
          [
           15.3333
          ],
          [
           15.3333
          ],
          [
           7.6667
          ],
          [
           15.3333
          ],
          [
           7.6667
          ],
          [
           11.5
          ],
          [
           15.3333
          ],
          [
           11.5
          ],
          [
           15.3333
          ],
          [
           11.5
          ],
          [
           11.5
          ],
          [
           11.5
          ],
          [
           7.6667
          ],
          [
           15.3333
          ],
          [
           7.6667
          ],
          [
           15.3333
          ],
          [
           7.6667
          ],
          [
           7.6667
          ],
          [
           15.3333
          ],
          [
           11.5
          ],
          [
           11.5
          ],
          [
           11.5
          ],
          [
           11.5
          ],
          [
           11.5
          ],
          [
           15.3333
          ],
          [
           11.5
          ],
          [
           15.3333
          ],
          [
           7.6667
          ],
          [
           7.6667
          ],
          [
           11.5
          ],
          [
           15.3333
          ],
          [
           15.3333
          ],
          [
           11.5
          ],
          [
           15.3333
          ],
          [
           15.3333
          ],
          [
           15.3333
          ],
          [
           7.6667
          ],
          [
           11.5
          ],
          [
           7.6667
          ],
          [
           11.5
          ],
          [
           15.3333
          ],
          [
           11.5
          ],
          [
           15.3333
          ],
          [
           11.5
          ],
          [
           7.6667
          ],
          [
           7.6667
          ],
          [
           7.6667
          ],
          [
           11.5
          ],
          [
           7.6667
          ],
          [
           7.6667
          ],
          [
           15.3333
          ],
          [
           11.5
          ],
          [
           11.5
          ],
          [
           11.5
          ],
          [
           15.3333
          ],
          [
           7.6667
          ],
          [
           7.6667
          ],
          [
           15.3333
          ],
          [
           11.5
          ],
          [
           11.5
          ],
          [
           15.3333
          ],
          [
           11.5
          ],
          [
           7.6667
          ],
          [
           15.3333
          ],
          [
           7.6667
          ],
          [
           7.6667
          ],
          [
           11.5
          ],
          [
           7.6667
          ],
          [
           15.3333
          ],
          [
           7.6667
          ],
          [
           11.5
          ],
          [
           15.3333
          ],
          [
           15.3333
          ],
          [
           11.5
          ],
          [
           7.6667
          ],
          [
           7.6667
          ],
          [
           15.3333
          ],
          [
           11.5
          ],
          [
           11.5
          ],
          [
           15.3333
          ],
          [
           11.5
          ],
          [
           11.5
          ],
          [
           11.5
          ],
          [
           11.5
          ],
          [
           15.3333
          ],
          [
           11.5
          ],
          [
           11.5
          ],
          [
           7.6667
          ],
          [
           15.3333
          ],
          [
           7.6667
          ],
          [
           7.6667
          ],
          [
           15.3333
          ],
          [
           15.3333
          ],
          [
           15.3333
          ],
          [
           7.6667
          ],
          [
           11.5
          ],
          [
           7.6667
          ],
          [
           7.6667
          ],
          [
           7.6667
          ],
          [
           7.6667
          ],
          [
           15.3333
          ],
          [
           7.6667
          ],
          [
           15.3333
          ],
          [
           15.3333
          ],
          [
           7.6667
          ],
          [
           15.3333
          ],
          [
           15.3333
          ],
          [
           7.6667
          ],
          [
           7.6667
          ],
          [
           11.5
          ],
          [
           15.3333
          ],
          [
           7.6667
          ],
          [
           11.5
          ],
          [
           7.6667
          ],
          [
           11.5
          ],
          [
           11.5
          ],
          [
           11.5
          ],
          [
           11.5
          ],
          [
           15.3333
          ],
          [
           15.3333
          ],
          [
           15.3333
          ],
          [
           15.3333
          ],
          [
           15.3333
          ],
          [
           15.3333
          ],
          [
           11.5
          ],
          [
           7.6667
          ],
          [
           11.5
          ],
          [
           7.6667
          ],
          [
           7.6667
          ],
          [
           11.5
          ],
          [
           7.6667
          ]
         ],
         "hovertemplate": "rod=%{x}<br>leak_flow=%{y}<br>leak_distance=%{customdata[0]}<br>Cluster=%{marker.color}<extra></extra>",
         "legendgroup": "",
         "marker": {
          "color": [
           1,
           0,
           0,
           1,
           1,
           1,
           1,
           0,
           1,
           1,
           0,
           1,
           0,
           1,
           1,
           0,
           1,
           1,
           0,
           1,
           1,
           1,
           1,
           0,
           1,
           0,
           1,
           0,
           1,
           1,
           1,
           0,
           1,
           0,
           0,
           1,
           1,
           1,
           0,
           1,
           1,
           1,
           0,
           1,
           1,
           1,
           0,
           0,
           0,
           1,
           1,
           1,
           1,
           1,
           0,
           0,
           0,
           0,
           0,
           0,
           0,
           0,
           0,
           0,
           0,
           0,
           0,
           0,
           0,
           0,
           0,
           0,
           0,
           0,
           0,
           0,
           0,
           0,
           0,
           0,
           0,
           1,
           1,
           1,
           1,
           1,
           1,
           1,
           1,
           1,
           1,
           1,
           1,
           1,
           1,
           1,
           1,
           1,
           1,
           1,
           1,
           1,
           1,
           1,
           1,
           1,
           0,
           1,
           0,
           0,
           0,
           1,
           0,
           1,
           0,
           0,
           0,
           0,
           0,
           0,
           1,
           0,
           0,
           1,
           0,
           1,
           0,
           1,
           1,
           1,
           0,
           0,
           0,
           0,
           1
          ],
          "coloraxis": "coloraxis",
          "symbol": "circle"
         },
         "mode": "markers",
         "name": "",
         "orientation": "v",
         "showlegend": false,
         "type": "scatter",
         "x": [
          31.96686547267018,
          17.53047824365785,
          16.31263981934171,
          26.12113197927829,
          22.90633004921256,
          31.96209712623386,
          32.10690317675471,
          11.91670224719564,
          27.04302224027924,
          32.42303461662959,
          14.93507126078475,
          32.565582225041,
          15.91120142524596,
          29.68011465051677,
          27.12506862101145,
          16.38727564859437,
          25.24111183389323,
          26.39436841703719,
          15.19960026699118,
          26.7942542466335,
          33.12919627013616,
          30.90209442324704,
          27.86939999402966,
          13.88499702050467,
          26.97893643513089,
          14.83926390731358,
          23.98941795178689,
          11.33210754513857,
          20.1258875108324,
          23.1294809228857,
          17.82986953074578,
          11.38166551091126,
          24.53739412600407,
          10.40561674672063,
          9.20560962948366,
          24.09866329911165,
          24.63491306820652,
          24.74006649572402,
          11.45225523490808,
          22.1758574724663,
          20.28722120693419,
          20.54485443298472,
          11.35276027821237,
          24.81854244007263,
          20.23854825290618,
          18.97034451569198,
          11.55000047123758,
          11.9658431620046,
          13.44464626404806,
          24.24885042640381,
          20.0623320886516,
          20.45590839826036,
          20.19426733651198,
          23.43797309574438,
          6.60370890062768,
          3.228327433404047,
          3.292498270689975,
          2.850700374605367,
          5.524147031537723,
          6.489288309006952,
          5.377067548572086,
          5.363906858721748,
          6.62397766095819,
          5.072502133320086,
          3.162239070778014,
          5.515332539624069,
          3.575234745949274,
          2.558591204026015,
          3.287610381201375,
          5.366645795525983,
          6.640609740978107,
          5.816154497966636,
          4.92527260776842,
          6.176706929982174,
          5.446510314824991,
          6.186665832763538,
          6.579956056724768,
          6.26435343013145,
          6.366963722393848,
          3.205322274647187,
          3.216250100842444,
          20.16781101832748,
          41.36433404061245,
          32.66406749701127,
          17.24555075494573,
          30.02539815724595,
          33.79266352177365,
          20.53530751841026,
          18.99951420034631,
          35.70852655841736,
          41.54829407163197,
          34.6396714344155,
          39.40577435214072,
          21.5210178141424,
          44.05377210926963,
          34.43295276944991,
          40.06943503441289,
          33.07145683962153,
          20.68885809759377,
          34.51240791671444,
          19.78389746247558,
          30.36336526880041,
          37.24987804720877,
          35.95072948205052,
          27.96474829816725,
          42.63563550903928,
          14.73336026174366,
          19.68442020379007,
          8.350819878454786,
          8.51881915004924,
          14.21143336442765,
          17.35607904585777,
          14.89476017834386,
          16.41329954756657,
          6.677650438592536,
          9.833357539755525,
          14.21109258482466,
          8.813659695209935,
          13.65539548749803,
          8.787097905529663,
          17.74178818560904,
          7.533905019343365,
          12.90805558179272,
          16.15795893204631,
          14.36167142837076,
          16.4827829945134,
          8.780877407087246,
          17.40755207755137,
          16.85247800155776,
          17.90267949894769,
          8.486910474603064,
          14.06938936479855,
          13.96569056762382,
          13.92050929355901,
          15.88536066614324
         ],
         "xaxis": "x",
         "y": [
          152.2794973380972,
          93.46042781401357,
          81.36485462730745,
          129.5250840346196,
          127.1632121574935,
          152.5471007841326,
          154.0495227120253,
          82.3595489984182,
          129.1039694658342,
          153.3581172112737,
          79.96061386058726,
          153.3615308713036,
          80.17566298227031,
          155.6947145267804,
          128.6852159990272,
          80.83403897260364,
          136.2218362838529,
          127.6511980699439,
          82.21684936937191,
          127.9195963414022,
          153.7020898123582,
          159.0266491667378,
          150.7124725874217,
          88.73625000242953,
          128.7581078599971,
          81.26840335413368,
          132.4718859694511,
          73.38009349191832,
          118.8451022299982,
          140.7446920531459,
          114.4125305430016,
          73.97869781366265,
          142.8981653604878,
          74.98680812354722,
          70.01861108587528,
          141.729452056744,
          142.5170079740563,
          142.0023091152721,
          72.80196308870144,
          137.6505511888871,
          119.9701620946118,
          119.730047417085,
          73.71099091773971,
          142.6011518237403,
          119.138714930981,
          117.9594388271971,
          72.17350102149025,
          73.2873604487653,
          78.4796687509517,
          142.9022911609453,
          120.1272030905883,
          119.6057693078563,
          120.497469888714,
          142.8720367184673,
          52.20199770791881,
          12.30136547983357,
          13.83600074984852,
          25.88181078800022,
          43.88154528653949,
          52.39480081886207,
          44.02985370076016,
          43.79106252580647,
          52.3239109352923,
          43.15043225344248,
          11.94270421824442,
          43.96787334339206,
          19.95358291825832,
          24.9104365531098,
          15.6967451735201,
          44.00826193024438,
          52.35041474802787,
          43.66070925808427,
          42.53502151982234,
          52.42489048041145,
          43.91797124825816,
          51.16677700860942,
          52.26918372349915,
          51.69149215926775,
          52.10183588057934,
          11.57085438484739,
          10.60808760136771,
          90.02653626559403,
          162.0622444471449,
          135.9776605858492,
          102.533069272607,
          146.8437155992489,
          137.5116340213627,
          89.19236465488984,
          88.45137867020611,
          170.2282766485895,
          161.5846828539255,
          138.4517534666053,
          160.549922785724,
          107.9968036583993,
          162.0377495346048,
          163.7003354335546,
          160.5257682064337,
          135.918332842568,
          89.73955715951075,
          136.9059141245975,
          91.00412437047103,
          151.5906841760427,
          174.6830316274817,
          137.4399719555559,
          140.0606202734054,
          162.9454955029553,
          94.95710998319774,
          88.20409857652842,
          64.55188114043018,
          63.46379692088222,
          103.3914899134055,
          123.9356183875675,
          103.2784512337014,
          123.7757951014882,
          58.38227091543953,
          63.96538702435983,
          103.9944611007172,
          64.46346507507018,
          101.7155721246585,
          64.02228060610744,
          123.7593403859629,
          61.51008504566332,
          99.88069000180043,
          120.2307450292671,
          103.6460169003502,
          123.2723446717522,
          63.94908883562084,
          123.3269480478408,
          122.0231848825322,
          123.1760509842755,
          64.36675969281508,
          104.0767866311572,
          104.1198350059909,
          103.7747166535767,
          123.9577285841691
         ],
         "yaxis": "y"
        }
       ],
       "layout": {
        "coloraxis": {
         "colorbar": {
          "title": {
           "text": "Cluster"
          }
         },
         "colorscale": [
          [
           0,
           "#0d0887"
          ],
          [
           0.1111111111111111,
           "#46039f"
          ],
          [
           0.2222222222222222,
           "#7201a8"
          ],
          [
           0.3333333333333333,
           "#9c179e"
          ],
          [
           0.4444444444444444,
           "#bd3786"
          ],
          [
           0.5555555555555556,
           "#d8576b"
          ],
          [
           0.6666666666666666,
           "#ed7953"
          ],
          [
           0.7777777777777778,
           "#fb9f3a"
          ],
          [
           0.8888888888888888,
           "#fdca26"
          ],
          [
           1,
           "#f0f921"
          ]
         ]
        },
        "legend": {
         "tracegroupgap": 0
        },
        "margin": {
         "t": 60
        },
        "template": {
         "data": {
          "bar": [
           {
            "error_x": {
             "color": "#2a3f5f"
            },
            "error_y": {
             "color": "#2a3f5f"
            },
            "marker": {
             "line": {
              "color": "#E5ECF6",
              "width": 0.5
             },
             "pattern": {
              "fillmode": "overlay",
              "size": 10,
              "solidity": 0.2
             }
            },
            "type": "bar"
           }
          ],
          "barpolar": [
           {
            "marker": {
             "line": {
              "color": "#E5ECF6",
              "width": 0.5
             },
             "pattern": {
              "fillmode": "overlay",
              "size": 10,
              "solidity": 0.2
             }
            },
            "type": "barpolar"
           }
          ],
          "carpet": [
           {
            "aaxis": {
             "endlinecolor": "#2a3f5f",
             "gridcolor": "white",
             "linecolor": "white",
             "minorgridcolor": "white",
             "startlinecolor": "#2a3f5f"
            },
            "baxis": {
             "endlinecolor": "#2a3f5f",
             "gridcolor": "white",
             "linecolor": "white",
             "minorgridcolor": "white",
             "startlinecolor": "#2a3f5f"
            },
            "type": "carpet"
           }
          ],
          "choropleth": [
           {
            "colorbar": {
             "outlinewidth": 0,
             "ticks": ""
            },
            "type": "choropleth"
           }
          ],
          "contour": [
           {
            "colorbar": {
             "outlinewidth": 0,
             "ticks": ""
            },
            "colorscale": [
             [
              0,
              "#0d0887"
             ],
             [
              0.1111111111111111,
              "#46039f"
             ],
             [
              0.2222222222222222,
              "#7201a8"
             ],
             [
              0.3333333333333333,
              "#9c179e"
             ],
             [
              0.4444444444444444,
              "#bd3786"
             ],
             [
              0.5555555555555556,
              "#d8576b"
             ],
             [
              0.6666666666666666,
              "#ed7953"
             ],
             [
              0.7777777777777778,
              "#fb9f3a"
             ],
             [
              0.8888888888888888,
              "#fdca26"
             ],
             [
              1,
              "#f0f921"
             ]
            ],
            "type": "contour"
           }
          ],
          "contourcarpet": [
           {
            "colorbar": {
             "outlinewidth": 0,
             "ticks": ""
            },
            "type": "contourcarpet"
           }
          ],
          "heatmap": [
           {
            "colorbar": {
             "outlinewidth": 0,
             "ticks": ""
            },
            "colorscale": [
             [
              0,
              "#0d0887"
             ],
             [
              0.1111111111111111,
              "#46039f"
             ],
             [
              0.2222222222222222,
              "#7201a8"
             ],
             [
              0.3333333333333333,
              "#9c179e"
             ],
             [
              0.4444444444444444,
              "#bd3786"
             ],
             [
              0.5555555555555556,
              "#d8576b"
             ],
             [
              0.6666666666666666,
              "#ed7953"
             ],
             [
              0.7777777777777778,
              "#fb9f3a"
             ],
             [
              0.8888888888888888,
              "#fdca26"
             ],
             [
              1,
              "#f0f921"
             ]
            ],
            "type": "heatmap"
           }
          ],
          "heatmapgl": [
           {
            "colorbar": {
             "outlinewidth": 0,
             "ticks": ""
            },
            "colorscale": [
             [
              0,
              "#0d0887"
             ],
             [
              0.1111111111111111,
              "#46039f"
             ],
             [
              0.2222222222222222,
              "#7201a8"
             ],
             [
              0.3333333333333333,
              "#9c179e"
             ],
             [
              0.4444444444444444,
              "#bd3786"
             ],
             [
              0.5555555555555556,
              "#d8576b"
             ],
             [
              0.6666666666666666,
              "#ed7953"
             ],
             [
              0.7777777777777778,
              "#fb9f3a"
             ],
             [
              0.8888888888888888,
              "#fdca26"
             ],
             [
              1,
              "#f0f921"
             ]
            ],
            "type": "heatmapgl"
           }
          ],
          "histogram": [
           {
            "marker": {
             "pattern": {
              "fillmode": "overlay",
              "size": 10,
              "solidity": 0.2
             }
            },
            "type": "histogram"
           }
          ],
          "histogram2d": [
           {
            "colorbar": {
             "outlinewidth": 0,
             "ticks": ""
            },
            "colorscale": [
             [
              0,
              "#0d0887"
             ],
             [
              0.1111111111111111,
              "#46039f"
             ],
             [
              0.2222222222222222,
              "#7201a8"
             ],
             [
              0.3333333333333333,
              "#9c179e"
             ],
             [
              0.4444444444444444,
              "#bd3786"
             ],
             [
              0.5555555555555556,
              "#d8576b"
             ],
             [
              0.6666666666666666,
              "#ed7953"
             ],
             [
              0.7777777777777778,
              "#fb9f3a"
             ],
             [
              0.8888888888888888,
              "#fdca26"
             ],
             [
              1,
              "#f0f921"
             ]
            ],
            "type": "histogram2d"
           }
          ],
          "histogram2dcontour": [
           {
            "colorbar": {
             "outlinewidth": 0,
             "ticks": ""
            },
            "colorscale": [
             [
              0,
              "#0d0887"
             ],
             [
              0.1111111111111111,
              "#46039f"
             ],
             [
              0.2222222222222222,
              "#7201a8"
             ],
             [
              0.3333333333333333,
              "#9c179e"
             ],
             [
              0.4444444444444444,
              "#bd3786"
             ],
             [
              0.5555555555555556,
              "#d8576b"
             ],
             [
              0.6666666666666666,
              "#ed7953"
             ],
             [
              0.7777777777777778,
              "#fb9f3a"
             ],
             [
              0.8888888888888888,
              "#fdca26"
             ],
             [
              1,
              "#f0f921"
             ]
            ],
            "type": "histogram2dcontour"
           }
          ],
          "mesh3d": [
           {
            "colorbar": {
             "outlinewidth": 0,
             "ticks": ""
            },
            "type": "mesh3d"
           }
          ],
          "parcoords": [
           {
            "line": {
             "colorbar": {
              "outlinewidth": 0,
              "ticks": ""
             }
            },
            "type": "parcoords"
           }
          ],
          "pie": [
           {
            "automargin": true,
            "type": "pie"
           }
          ],
          "scatter": [
           {
            "fillpattern": {
             "fillmode": "overlay",
             "size": 10,
             "solidity": 0.2
            },
            "type": "scatter"
           }
          ],
          "scatter3d": [
           {
            "line": {
             "colorbar": {
              "outlinewidth": 0,
              "ticks": ""
             }
            },
            "marker": {
             "colorbar": {
              "outlinewidth": 0,
              "ticks": ""
             }
            },
            "type": "scatter3d"
           }
          ],
          "scattercarpet": [
           {
            "marker": {
             "colorbar": {
              "outlinewidth": 0,
              "ticks": ""
             }
            },
            "type": "scattercarpet"
           }
          ],
          "scattergeo": [
           {
            "marker": {
             "colorbar": {
              "outlinewidth": 0,
              "ticks": ""
             }
            },
            "type": "scattergeo"
           }
          ],
          "scattergl": [
           {
            "marker": {
             "colorbar": {
              "outlinewidth": 0,
              "ticks": ""
             }
            },
            "type": "scattergl"
           }
          ],
          "scattermapbox": [
           {
            "marker": {
             "colorbar": {
              "outlinewidth": 0,
              "ticks": ""
             }
            },
            "type": "scattermapbox"
           }
          ],
          "scatterpolar": [
           {
            "marker": {
             "colorbar": {
              "outlinewidth": 0,
              "ticks": ""
             }
            },
            "type": "scatterpolar"
           }
          ],
          "scatterpolargl": [
           {
            "marker": {
             "colorbar": {
              "outlinewidth": 0,
              "ticks": ""
             }
            },
            "type": "scatterpolargl"
           }
          ],
          "scatterternary": [
           {
            "marker": {
             "colorbar": {
              "outlinewidth": 0,
              "ticks": ""
             }
            },
            "type": "scatterternary"
           }
          ],
          "surface": [
           {
            "colorbar": {
             "outlinewidth": 0,
             "ticks": ""
            },
            "colorscale": [
             [
              0,
              "#0d0887"
             ],
             [
              0.1111111111111111,
              "#46039f"
             ],
             [
              0.2222222222222222,
              "#7201a8"
             ],
             [
              0.3333333333333333,
              "#9c179e"
             ],
             [
              0.4444444444444444,
              "#bd3786"
             ],
             [
              0.5555555555555556,
              "#d8576b"
             ],
             [
              0.6666666666666666,
              "#ed7953"
             ],
             [
              0.7777777777777778,
              "#fb9f3a"
             ],
             [
              0.8888888888888888,
              "#fdca26"
             ],
             [
              1,
              "#f0f921"
             ]
            ],
            "type": "surface"
           }
          ],
          "table": [
           {
            "cells": {
             "fill": {
              "color": "#EBF0F8"
             },
             "line": {
              "color": "white"
             }
            },
            "header": {
             "fill": {
              "color": "#C8D4E3"
             },
             "line": {
              "color": "white"
             }
            },
            "type": "table"
           }
          ]
         },
         "layout": {
          "annotationdefaults": {
           "arrowcolor": "#2a3f5f",
           "arrowhead": 0,
           "arrowwidth": 1
          },
          "autotypenumbers": "strict",
          "coloraxis": {
           "colorbar": {
            "outlinewidth": 0,
            "ticks": ""
           }
          },
          "colorscale": {
           "diverging": [
            [
             0,
             "#8e0152"
            ],
            [
             0.1,
             "#c51b7d"
            ],
            [
             0.2,
             "#de77ae"
            ],
            [
             0.3,
             "#f1b6da"
            ],
            [
             0.4,
             "#fde0ef"
            ],
            [
             0.5,
             "#f7f7f7"
            ],
            [
             0.6,
             "#e6f5d0"
            ],
            [
             0.7,
             "#b8e186"
            ],
            [
             0.8,
             "#7fbc41"
            ],
            [
             0.9,
             "#4d9221"
            ],
            [
             1,
             "#276419"
            ]
           ],
           "sequential": [
            [
             0,
             "#0d0887"
            ],
            [
             0.1111111111111111,
             "#46039f"
            ],
            [
             0.2222222222222222,
             "#7201a8"
            ],
            [
             0.3333333333333333,
             "#9c179e"
            ],
            [
             0.4444444444444444,
             "#bd3786"
            ],
            [
             0.5555555555555556,
             "#d8576b"
            ],
            [
             0.6666666666666666,
             "#ed7953"
            ],
            [
             0.7777777777777778,
             "#fb9f3a"
            ],
            [
             0.8888888888888888,
             "#fdca26"
            ],
            [
             1,
             "#f0f921"
            ]
           ],
           "sequentialminus": [
            [
             0,
             "#0d0887"
            ],
            [
             0.1111111111111111,
             "#46039f"
            ],
            [
             0.2222222222222222,
             "#7201a8"
            ],
            [
             0.3333333333333333,
             "#9c179e"
            ],
            [
             0.4444444444444444,
             "#bd3786"
            ],
            [
             0.5555555555555556,
             "#d8576b"
            ],
            [
             0.6666666666666666,
             "#ed7953"
            ],
            [
             0.7777777777777778,
             "#fb9f3a"
            ],
            [
             0.8888888888888888,
             "#fdca26"
            ],
            [
             1,
             "#f0f921"
            ]
           ]
          },
          "colorway": [
           "#636efa",
           "#EF553B",
           "#00cc96",
           "#ab63fa",
           "#FFA15A",
           "#19d3f3",
           "#FF6692",
           "#B6E880",
           "#FF97FF",
           "#FECB52"
          ],
          "font": {
           "color": "#2a3f5f"
          },
          "geo": {
           "bgcolor": "white",
           "lakecolor": "white",
           "landcolor": "#E5ECF6",
           "showlakes": true,
           "showland": true,
           "subunitcolor": "white"
          },
          "hoverlabel": {
           "align": "left"
          },
          "hovermode": "closest",
          "mapbox": {
           "style": "light"
          },
          "paper_bgcolor": "white",
          "plot_bgcolor": "#E5ECF6",
          "polar": {
           "angularaxis": {
            "gridcolor": "white",
            "linecolor": "white",
            "ticks": ""
           },
           "bgcolor": "#E5ECF6",
           "radialaxis": {
            "gridcolor": "white",
            "linecolor": "white",
            "ticks": ""
           }
          },
          "scene": {
           "xaxis": {
            "backgroundcolor": "#E5ECF6",
            "gridcolor": "white",
            "gridwidth": 2,
            "linecolor": "white",
            "showbackground": true,
            "ticks": "",
            "zerolinecolor": "white"
           },
           "yaxis": {
            "backgroundcolor": "#E5ECF6",
            "gridcolor": "white",
            "gridwidth": 2,
            "linecolor": "white",
            "showbackground": true,
            "ticks": "",
            "zerolinecolor": "white"
           },
           "zaxis": {
            "backgroundcolor": "#E5ECF6",
            "gridcolor": "white",
            "gridwidth": 2,
            "linecolor": "white",
            "showbackground": true,
            "ticks": "",
            "zerolinecolor": "white"
           }
          },
          "shapedefaults": {
           "line": {
            "color": "#2a3f5f"
           }
          },
          "ternary": {
           "aaxis": {
            "gridcolor": "white",
            "linecolor": "white",
            "ticks": ""
           },
           "baxis": {
            "gridcolor": "white",
            "linecolor": "white",
            "ticks": ""
           },
           "bgcolor": "#E5ECF6",
           "caxis": {
            "gridcolor": "white",
            "linecolor": "white",
            "ticks": ""
           }
          },
          "title": {
           "x": 0.05
          },
          "xaxis": {
           "automargin": true,
           "gridcolor": "white",
           "linecolor": "white",
           "ticks": "",
           "title": {
            "standoff": 15
           },
           "zerolinecolor": "white",
           "zerolinewidth": 2
          },
          "yaxis": {
           "automargin": true,
           "gridcolor": "white",
           "linecolor": "white",
           "ticks": "",
           "title": {
            "standoff": 15
           },
           "zerolinecolor": "white",
           "zerolinewidth": 2
          }
         }
        },
        "xaxis": {
         "anchor": "y",
         "domain": [
          0,
          1
         ],
         "title": {
          "text": "rod"
         }
        },
        "yaxis": {
         "anchor": "x",
         "domain": [
          0,
          1
         ],
         "title": {
          "text": "leak_flow"
         }
        }
       }
      }
     },
     "metadata": {},
     "output_type": "display_data"
    }
   ],
   "source": [
    "px.scatter(rod,y='leak_flow', x='rod', color='Cluster', hover_data='leak_distance')"
   ]
  },
  {
   "cell_type": "code",
   "execution_count": 120,
   "metadata": {},
   "outputs": [
    {
     "data": {
      "application/vnd.plotly.v1+json": {
       "config": {
        "plotlyServerURL": "https://plot.ly"
       },
       "data": [
        {
         "hovertemplate": "rod=%{x}<br>leak_flow=%{y}<br>pressure=%{z}<br>Cluster=%{marker.color}<extra></extra>",
         "legendgroup": "",
         "marker": {
          "color": [
           1,
           0,
           0,
           1,
           1,
           1,
           1,
           0,
           1,
           1,
           0,
           1,
           0,
           1,
           1,
           0,
           1,
           1,
           0,
           1,
           1,
           1,
           1,
           0,
           1,
           0,
           1,
           0,
           1,
           1,
           1,
           0,
           1,
           0,
           0,
           1,
           1,
           1,
           0,
           1,
           1,
           1,
           0,
           1,
           1,
           1,
           0,
           0,
           0,
           1,
           1,
           1,
           1,
           1,
           0,
           0,
           0,
           0,
           0,
           0,
           0,
           0,
           0,
           0,
           0,
           0,
           0,
           0,
           0,
           0,
           0,
           0,
           0,
           0,
           0,
           0,
           0,
           0,
           0,
           0,
           0,
           1,
           1,
           1,
           1,
           1,
           1,
           1,
           1,
           1,
           1,
           1,
           1,
           1,
           1,
           1,
           1,
           1,
           1,
           1,
           1,
           1,
           1,
           1,
           1,
           1,
           0,
           1,
           0,
           0,
           0,
           1,
           0,
           1,
           0,
           0,
           0,
           0,
           0,
           0,
           1,
           0,
           0,
           1,
           0,
           1,
           0,
           1,
           1,
           1,
           0,
           0,
           0,
           0,
           1
          ],
          "coloraxis": "coloraxis",
          "symbol": "circle"
         },
         "mode": "markers",
         "name": "",
         "scene": "scene",
         "showlegend": false,
         "type": "scatter3d",
         "x": [
          31.96686547267018,
          17.53047824365785,
          16.31263981934171,
          26.12113197927829,
          22.90633004921256,
          31.96209712623386,
          32.10690317675471,
          11.91670224719564,
          27.04302224027924,
          32.42303461662959,
          14.93507126078475,
          32.565582225041,
          15.91120142524596,
          29.68011465051677,
          27.12506862101145,
          16.38727564859437,
          25.24111183389323,
          26.39436841703719,
          15.19960026699118,
          26.7942542466335,
          33.12919627013616,
          30.90209442324704,
          27.86939999402966,
          13.88499702050467,
          26.97893643513089,
          14.83926390731358,
          23.98941795178689,
          11.33210754513857,
          20.1258875108324,
          23.1294809228857,
          17.82986953074578,
          11.38166551091126,
          24.53739412600407,
          10.40561674672063,
          9.20560962948366,
          24.09866329911165,
          24.63491306820652,
          24.74006649572402,
          11.45225523490808,
          22.1758574724663,
          20.28722120693419,
          20.54485443298472,
          11.35276027821237,
          24.81854244007263,
          20.23854825290618,
          18.97034451569198,
          11.55000047123758,
          11.9658431620046,
          13.44464626404806,
          24.24885042640381,
          20.0623320886516,
          20.45590839826036,
          20.19426733651198,
          23.43797309574438,
          6.60370890062768,
          3.228327433404047,
          3.292498270689975,
          2.850700374605367,
          5.524147031537723,
          6.489288309006952,
          5.377067548572086,
          5.363906858721748,
          6.62397766095819,
          5.072502133320086,
          3.162239070778014,
          5.515332539624069,
          3.575234745949274,
          2.558591204026015,
          3.287610381201375,
          5.366645795525983,
          6.640609740978107,
          5.816154497966636,
          4.92527260776842,
          6.176706929982174,
          5.446510314824991,
          6.186665832763538,
          6.579956056724768,
          6.26435343013145,
          6.366963722393848,
          3.205322274647187,
          3.216250100842444,
          20.16781101832748,
          41.36433404061245,
          32.66406749701127,
          17.24555075494573,
          30.02539815724595,
          33.79266352177365,
          20.53530751841026,
          18.99951420034631,
          35.70852655841736,
          41.54829407163197,
          34.6396714344155,
          39.40577435214072,
          21.5210178141424,
          44.05377210926963,
          34.43295276944991,
          40.06943503441289,
          33.07145683962153,
          20.68885809759377,
          34.51240791671444,
          19.78389746247558,
          30.36336526880041,
          37.24987804720877,
          35.95072948205052,
          27.96474829816725,
          42.63563550903928,
          14.73336026174366,
          19.68442020379007,
          8.350819878454786,
          8.51881915004924,
          14.21143336442765,
          17.35607904585777,
          14.89476017834386,
          16.41329954756657,
          6.677650438592536,
          9.833357539755525,
          14.21109258482466,
          8.813659695209935,
          13.65539548749803,
          8.787097905529663,
          17.74178818560904,
          7.533905019343365,
          12.90805558179272,
          16.15795893204631,
          14.36167142837076,
          16.4827829945134,
          8.780877407087246,
          17.40755207755137,
          16.85247800155776,
          17.90267949894769,
          8.486910474603064,
          14.06938936479855,
          13.96569056762382,
          13.92050929355901,
          15.88536066614324
         ],
         "y": [
          152.2794973380972,
          93.46042781401357,
          81.36485462730745,
          129.5250840346196,
          127.1632121574935,
          152.5471007841326,
          154.0495227120253,
          82.3595489984182,
          129.1039694658342,
          153.3581172112737,
          79.96061386058726,
          153.3615308713036,
          80.17566298227031,
          155.6947145267804,
          128.6852159990272,
          80.83403897260364,
          136.2218362838529,
          127.6511980699439,
          82.21684936937191,
          127.9195963414022,
          153.7020898123582,
          159.0266491667378,
          150.7124725874217,
          88.73625000242953,
          128.7581078599971,
          81.26840335413368,
          132.4718859694511,
          73.38009349191832,
          118.8451022299982,
          140.7446920531459,
          114.4125305430016,
          73.97869781366265,
          142.8981653604878,
          74.98680812354722,
          70.01861108587528,
          141.729452056744,
          142.5170079740563,
          142.0023091152721,
          72.80196308870144,
          137.6505511888871,
          119.9701620946118,
          119.730047417085,
          73.71099091773971,
          142.6011518237403,
          119.138714930981,
          117.9594388271971,
          72.17350102149025,
          73.2873604487653,
          78.4796687509517,
          142.9022911609453,
          120.1272030905883,
          119.6057693078563,
          120.497469888714,
          142.8720367184673,
          52.20199770791881,
          12.30136547983357,
          13.83600074984852,
          25.88181078800022,
          43.88154528653949,
          52.39480081886207,
          44.02985370076016,
          43.79106252580647,
          52.3239109352923,
          43.15043225344248,
          11.94270421824442,
          43.96787334339206,
          19.95358291825832,
          24.9104365531098,
          15.6967451735201,
          44.00826193024438,
          52.35041474802787,
          43.66070925808427,
          42.53502151982234,
          52.42489048041145,
          43.91797124825816,
          51.16677700860942,
          52.26918372349915,
          51.69149215926775,
          52.10183588057934,
          11.57085438484739,
          10.60808760136771,
          90.02653626559403,
          162.0622444471449,
          135.9776605858492,
          102.533069272607,
          146.8437155992489,
          137.5116340213627,
          89.19236465488984,
          88.45137867020611,
          170.2282766485895,
          161.5846828539255,
          138.4517534666053,
          160.549922785724,
          107.9968036583993,
          162.0377495346048,
          163.7003354335546,
          160.5257682064337,
          135.918332842568,
          89.73955715951075,
          136.9059141245975,
          91.00412437047103,
          151.5906841760427,
          174.6830316274817,
          137.4399719555559,
          140.0606202734054,
          162.9454955029553,
          94.95710998319774,
          88.20409857652842,
          64.55188114043018,
          63.46379692088222,
          103.3914899134055,
          123.9356183875675,
          103.2784512337014,
          123.7757951014882,
          58.38227091543953,
          63.96538702435983,
          103.9944611007172,
          64.46346507507018,
          101.7155721246585,
          64.02228060610744,
          123.7593403859629,
          61.51008504566332,
          99.88069000180043,
          120.2307450292671,
          103.6460169003502,
          123.2723446717522,
          63.94908883562084,
          123.3269480478408,
          122.0231848825322,
          123.1760509842755,
          64.36675969281508,
          104.0767866311572,
          104.1198350059909,
          103.7747166535767,
          123.9577285841691
         ],
         "z": [
          1190,
          653,
          653,
          1016,
          1016,
          1190,
          1190,
          653,
          1016,
          1190,
          653,
          1190,
          653,
          1190,
          1016,
          653,
          1016,
          1016,
          653,
          1016,
          1190,
          1190,
          1190,
          653,
          1016,
          653,
          1016,
          653,
          1016,
          1190,
          1016,
          653,
          1190,
          653,
          653,
          1190,
          1190,
          1190,
          653,
          1190,
          1016,
          1016,
          653,
          1190,
          1016,
          1016,
          653,
          653,
          653,
          1190,
          1016,
          1016,
          1016,
          1190,
          1190,
          653,
          653,
          653,
          1016,
          1190,
          1016,
          1016,
          1190,
          1016,
          653,
          1016,
          653,
          653,
          653,
          1016,
          1190,
          1016,
          1016,
          1190,
          1016,
          1190,
          1190,
          1190,
          1190,
          653,
          653,
          653,
          1190,
          1016,
          653,
          1016,
          1016,
          653,
          653,
          1190,
          1190,
          1016,
          1190,
          653,
          1190,
          1190,
          1190,
          1016,
          653,
          1016,
          653,
          1016,
          1190,
          1016,
          1016,
          1190,
          653,
          653,
          653,
          653,
          1016,
          1190,
          1016,
          1190,
          653,
          653,
          1016,
          653,
          1016,
          653,
          1190,
          653,
          1016,
          1190,
          1016,
          1190,
          653,
          1190,
          1190,
          1190,
          653,
          1016,
          1016,
          1016,
          1190
         ]
        }
       ],
       "layout": {
        "coloraxis": {
         "colorbar": {
          "title": {
           "text": "Cluster"
          }
         },
         "colorscale": [
          [
           0,
           "#0d0887"
          ],
          [
           0.1111111111111111,
           "#46039f"
          ],
          [
           0.2222222222222222,
           "#7201a8"
          ],
          [
           0.3333333333333333,
           "#9c179e"
          ],
          [
           0.4444444444444444,
           "#bd3786"
          ],
          [
           0.5555555555555556,
           "#d8576b"
          ],
          [
           0.6666666666666666,
           "#ed7953"
          ],
          [
           0.7777777777777778,
           "#fb9f3a"
          ],
          [
           0.8888888888888888,
           "#fdca26"
          ],
          [
           1,
           "#f0f921"
          ]
         ]
        },
        "legend": {
         "tracegroupgap": 0
        },
        "margin": {
         "t": 60
        },
        "scene": {
         "domain": {
          "x": [
           0,
           1
          ],
          "y": [
           0,
           1
          ]
         },
         "xaxis": {
          "title": {
           "text": "rod"
          }
         },
         "yaxis": {
          "title": {
           "text": "leak_flow"
          }
         },
         "zaxis": {
          "title": {
           "text": "pressure"
          }
         }
        },
        "template": {
         "data": {
          "bar": [
           {
            "error_x": {
             "color": "#2a3f5f"
            },
            "error_y": {
             "color": "#2a3f5f"
            },
            "marker": {
             "line": {
              "color": "#E5ECF6",
              "width": 0.5
             },
             "pattern": {
              "fillmode": "overlay",
              "size": 10,
              "solidity": 0.2
             }
            },
            "type": "bar"
           }
          ],
          "barpolar": [
           {
            "marker": {
             "line": {
              "color": "#E5ECF6",
              "width": 0.5
             },
             "pattern": {
              "fillmode": "overlay",
              "size": 10,
              "solidity": 0.2
             }
            },
            "type": "barpolar"
           }
          ],
          "carpet": [
           {
            "aaxis": {
             "endlinecolor": "#2a3f5f",
             "gridcolor": "white",
             "linecolor": "white",
             "minorgridcolor": "white",
             "startlinecolor": "#2a3f5f"
            },
            "baxis": {
             "endlinecolor": "#2a3f5f",
             "gridcolor": "white",
             "linecolor": "white",
             "minorgridcolor": "white",
             "startlinecolor": "#2a3f5f"
            },
            "type": "carpet"
           }
          ],
          "choropleth": [
           {
            "colorbar": {
             "outlinewidth": 0,
             "ticks": ""
            },
            "type": "choropleth"
           }
          ],
          "contour": [
           {
            "colorbar": {
             "outlinewidth": 0,
             "ticks": ""
            },
            "colorscale": [
             [
              0,
              "#0d0887"
             ],
             [
              0.1111111111111111,
              "#46039f"
             ],
             [
              0.2222222222222222,
              "#7201a8"
             ],
             [
              0.3333333333333333,
              "#9c179e"
             ],
             [
              0.4444444444444444,
              "#bd3786"
             ],
             [
              0.5555555555555556,
              "#d8576b"
             ],
             [
              0.6666666666666666,
              "#ed7953"
             ],
             [
              0.7777777777777778,
              "#fb9f3a"
             ],
             [
              0.8888888888888888,
              "#fdca26"
             ],
             [
              1,
              "#f0f921"
             ]
            ],
            "type": "contour"
           }
          ],
          "contourcarpet": [
           {
            "colorbar": {
             "outlinewidth": 0,
             "ticks": ""
            },
            "type": "contourcarpet"
           }
          ],
          "heatmap": [
           {
            "colorbar": {
             "outlinewidth": 0,
             "ticks": ""
            },
            "colorscale": [
             [
              0,
              "#0d0887"
             ],
             [
              0.1111111111111111,
              "#46039f"
             ],
             [
              0.2222222222222222,
              "#7201a8"
             ],
             [
              0.3333333333333333,
              "#9c179e"
             ],
             [
              0.4444444444444444,
              "#bd3786"
             ],
             [
              0.5555555555555556,
              "#d8576b"
             ],
             [
              0.6666666666666666,
              "#ed7953"
             ],
             [
              0.7777777777777778,
              "#fb9f3a"
             ],
             [
              0.8888888888888888,
              "#fdca26"
             ],
             [
              1,
              "#f0f921"
             ]
            ],
            "type": "heatmap"
           }
          ],
          "heatmapgl": [
           {
            "colorbar": {
             "outlinewidth": 0,
             "ticks": ""
            },
            "colorscale": [
             [
              0,
              "#0d0887"
             ],
             [
              0.1111111111111111,
              "#46039f"
             ],
             [
              0.2222222222222222,
              "#7201a8"
             ],
             [
              0.3333333333333333,
              "#9c179e"
             ],
             [
              0.4444444444444444,
              "#bd3786"
             ],
             [
              0.5555555555555556,
              "#d8576b"
             ],
             [
              0.6666666666666666,
              "#ed7953"
             ],
             [
              0.7777777777777778,
              "#fb9f3a"
             ],
             [
              0.8888888888888888,
              "#fdca26"
             ],
             [
              1,
              "#f0f921"
             ]
            ],
            "type": "heatmapgl"
           }
          ],
          "histogram": [
           {
            "marker": {
             "pattern": {
              "fillmode": "overlay",
              "size": 10,
              "solidity": 0.2
             }
            },
            "type": "histogram"
           }
          ],
          "histogram2d": [
           {
            "colorbar": {
             "outlinewidth": 0,
             "ticks": ""
            },
            "colorscale": [
             [
              0,
              "#0d0887"
             ],
             [
              0.1111111111111111,
              "#46039f"
             ],
             [
              0.2222222222222222,
              "#7201a8"
             ],
             [
              0.3333333333333333,
              "#9c179e"
             ],
             [
              0.4444444444444444,
              "#bd3786"
             ],
             [
              0.5555555555555556,
              "#d8576b"
             ],
             [
              0.6666666666666666,
              "#ed7953"
             ],
             [
              0.7777777777777778,
              "#fb9f3a"
             ],
             [
              0.8888888888888888,
              "#fdca26"
             ],
             [
              1,
              "#f0f921"
             ]
            ],
            "type": "histogram2d"
           }
          ],
          "histogram2dcontour": [
           {
            "colorbar": {
             "outlinewidth": 0,
             "ticks": ""
            },
            "colorscale": [
             [
              0,
              "#0d0887"
             ],
             [
              0.1111111111111111,
              "#46039f"
             ],
             [
              0.2222222222222222,
              "#7201a8"
             ],
             [
              0.3333333333333333,
              "#9c179e"
             ],
             [
              0.4444444444444444,
              "#bd3786"
             ],
             [
              0.5555555555555556,
              "#d8576b"
             ],
             [
              0.6666666666666666,
              "#ed7953"
             ],
             [
              0.7777777777777778,
              "#fb9f3a"
             ],
             [
              0.8888888888888888,
              "#fdca26"
             ],
             [
              1,
              "#f0f921"
             ]
            ],
            "type": "histogram2dcontour"
           }
          ],
          "mesh3d": [
           {
            "colorbar": {
             "outlinewidth": 0,
             "ticks": ""
            },
            "type": "mesh3d"
           }
          ],
          "parcoords": [
           {
            "line": {
             "colorbar": {
              "outlinewidth": 0,
              "ticks": ""
             }
            },
            "type": "parcoords"
           }
          ],
          "pie": [
           {
            "automargin": true,
            "type": "pie"
           }
          ],
          "scatter": [
           {
            "fillpattern": {
             "fillmode": "overlay",
             "size": 10,
             "solidity": 0.2
            },
            "type": "scatter"
           }
          ],
          "scatter3d": [
           {
            "line": {
             "colorbar": {
              "outlinewidth": 0,
              "ticks": ""
             }
            },
            "marker": {
             "colorbar": {
              "outlinewidth": 0,
              "ticks": ""
             }
            },
            "type": "scatter3d"
           }
          ],
          "scattercarpet": [
           {
            "marker": {
             "colorbar": {
              "outlinewidth": 0,
              "ticks": ""
             }
            },
            "type": "scattercarpet"
           }
          ],
          "scattergeo": [
           {
            "marker": {
             "colorbar": {
              "outlinewidth": 0,
              "ticks": ""
             }
            },
            "type": "scattergeo"
           }
          ],
          "scattergl": [
           {
            "marker": {
             "colorbar": {
              "outlinewidth": 0,
              "ticks": ""
             }
            },
            "type": "scattergl"
           }
          ],
          "scattermapbox": [
           {
            "marker": {
             "colorbar": {
              "outlinewidth": 0,
              "ticks": ""
             }
            },
            "type": "scattermapbox"
           }
          ],
          "scatterpolar": [
           {
            "marker": {
             "colorbar": {
              "outlinewidth": 0,
              "ticks": ""
             }
            },
            "type": "scatterpolar"
           }
          ],
          "scatterpolargl": [
           {
            "marker": {
             "colorbar": {
              "outlinewidth": 0,
              "ticks": ""
             }
            },
            "type": "scatterpolargl"
           }
          ],
          "scatterternary": [
           {
            "marker": {
             "colorbar": {
              "outlinewidth": 0,
              "ticks": ""
             }
            },
            "type": "scatterternary"
           }
          ],
          "surface": [
           {
            "colorbar": {
             "outlinewidth": 0,
             "ticks": ""
            },
            "colorscale": [
             [
              0,
              "#0d0887"
             ],
             [
              0.1111111111111111,
              "#46039f"
             ],
             [
              0.2222222222222222,
              "#7201a8"
             ],
             [
              0.3333333333333333,
              "#9c179e"
             ],
             [
              0.4444444444444444,
              "#bd3786"
             ],
             [
              0.5555555555555556,
              "#d8576b"
             ],
             [
              0.6666666666666666,
              "#ed7953"
             ],
             [
              0.7777777777777778,
              "#fb9f3a"
             ],
             [
              0.8888888888888888,
              "#fdca26"
             ],
             [
              1,
              "#f0f921"
             ]
            ],
            "type": "surface"
           }
          ],
          "table": [
           {
            "cells": {
             "fill": {
              "color": "#EBF0F8"
             },
             "line": {
              "color": "white"
             }
            },
            "header": {
             "fill": {
              "color": "#C8D4E3"
             },
             "line": {
              "color": "white"
             }
            },
            "type": "table"
           }
          ]
         },
         "layout": {
          "annotationdefaults": {
           "arrowcolor": "#2a3f5f",
           "arrowhead": 0,
           "arrowwidth": 1
          },
          "autotypenumbers": "strict",
          "coloraxis": {
           "colorbar": {
            "outlinewidth": 0,
            "ticks": ""
           }
          },
          "colorscale": {
           "diverging": [
            [
             0,
             "#8e0152"
            ],
            [
             0.1,
             "#c51b7d"
            ],
            [
             0.2,
             "#de77ae"
            ],
            [
             0.3,
             "#f1b6da"
            ],
            [
             0.4,
             "#fde0ef"
            ],
            [
             0.5,
             "#f7f7f7"
            ],
            [
             0.6,
             "#e6f5d0"
            ],
            [
             0.7,
             "#b8e186"
            ],
            [
             0.8,
             "#7fbc41"
            ],
            [
             0.9,
             "#4d9221"
            ],
            [
             1,
             "#276419"
            ]
           ],
           "sequential": [
            [
             0,
             "#0d0887"
            ],
            [
             0.1111111111111111,
             "#46039f"
            ],
            [
             0.2222222222222222,
             "#7201a8"
            ],
            [
             0.3333333333333333,
             "#9c179e"
            ],
            [
             0.4444444444444444,
             "#bd3786"
            ],
            [
             0.5555555555555556,
             "#d8576b"
            ],
            [
             0.6666666666666666,
             "#ed7953"
            ],
            [
             0.7777777777777778,
             "#fb9f3a"
            ],
            [
             0.8888888888888888,
             "#fdca26"
            ],
            [
             1,
             "#f0f921"
            ]
           ],
           "sequentialminus": [
            [
             0,
             "#0d0887"
            ],
            [
             0.1111111111111111,
             "#46039f"
            ],
            [
             0.2222222222222222,
             "#7201a8"
            ],
            [
             0.3333333333333333,
             "#9c179e"
            ],
            [
             0.4444444444444444,
             "#bd3786"
            ],
            [
             0.5555555555555556,
             "#d8576b"
            ],
            [
             0.6666666666666666,
             "#ed7953"
            ],
            [
             0.7777777777777778,
             "#fb9f3a"
            ],
            [
             0.8888888888888888,
             "#fdca26"
            ],
            [
             1,
             "#f0f921"
            ]
           ]
          },
          "colorway": [
           "#636efa",
           "#EF553B",
           "#00cc96",
           "#ab63fa",
           "#FFA15A",
           "#19d3f3",
           "#FF6692",
           "#B6E880",
           "#FF97FF",
           "#FECB52"
          ],
          "font": {
           "color": "#2a3f5f"
          },
          "geo": {
           "bgcolor": "white",
           "lakecolor": "white",
           "landcolor": "#E5ECF6",
           "showlakes": true,
           "showland": true,
           "subunitcolor": "white"
          },
          "hoverlabel": {
           "align": "left"
          },
          "hovermode": "closest",
          "mapbox": {
           "style": "light"
          },
          "paper_bgcolor": "white",
          "plot_bgcolor": "#E5ECF6",
          "polar": {
           "angularaxis": {
            "gridcolor": "white",
            "linecolor": "white",
            "ticks": ""
           },
           "bgcolor": "#E5ECF6",
           "radialaxis": {
            "gridcolor": "white",
            "linecolor": "white",
            "ticks": ""
           }
          },
          "scene": {
           "xaxis": {
            "backgroundcolor": "#E5ECF6",
            "gridcolor": "white",
            "gridwidth": 2,
            "linecolor": "white",
            "showbackground": true,
            "ticks": "",
            "zerolinecolor": "white"
           },
           "yaxis": {
            "backgroundcolor": "#E5ECF6",
            "gridcolor": "white",
            "gridwidth": 2,
            "linecolor": "white",
            "showbackground": true,
            "ticks": "",
            "zerolinecolor": "white"
           },
           "zaxis": {
            "backgroundcolor": "#E5ECF6",
            "gridcolor": "white",
            "gridwidth": 2,
            "linecolor": "white",
            "showbackground": true,
            "ticks": "",
            "zerolinecolor": "white"
           }
          },
          "shapedefaults": {
           "line": {
            "color": "#2a3f5f"
           }
          },
          "ternary": {
           "aaxis": {
            "gridcolor": "white",
            "linecolor": "white",
            "ticks": ""
           },
           "baxis": {
            "gridcolor": "white",
            "linecolor": "white",
            "ticks": ""
           },
           "bgcolor": "#E5ECF6",
           "caxis": {
            "gridcolor": "white",
            "linecolor": "white",
            "ticks": ""
           }
          },
          "title": {
           "x": 0.05
          },
          "xaxis": {
           "automargin": true,
           "gridcolor": "white",
           "linecolor": "white",
           "ticks": "",
           "title": {
            "standoff": 15
           },
           "zerolinecolor": "white",
           "zerolinewidth": 2
          },
          "yaxis": {
           "automargin": true,
           "gridcolor": "white",
           "linecolor": "white",
           "ticks": "",
           "title": {
            "standoff": 15
           },
           "zerolinecolor": "white",
           "zerolinewidth": 2
          }
         }
        }
       }
      }
     },
     "metadata": {},
     "output_type": "display_data"
    },
    {
     "data": {
      "text/plain": [
       "<Figure size 500x1000 with 0 Axes>"
      ]
     },
     "metadata": {},
     "output_type": "display_data"
    }
   ],
   "source": [
    "plt.figure(figsize=(5,10))\n",
    "fig = px.scatter_3d(rod, x='rod', y='leak_flow', z='pressure',\n",
    "              color='Cluster')\n",
    "fig.show()"
   ]
  },
  {
   "cell_type": "markdown",
   "metadata": {},
   "source": [
    "### EDA INSIGHTS\n",
    "\n",
    "* El dataset está compuesto por 135 observaciones.\n",
    "* Se encuentran fuertes correlaciones lineales entre el rod generado y las variables leak_dia y pressure. Esto es esperado según lo demostrado por la experiencia de operación. Esto demostraría que estás variables son fundamentales a la hora de explicar el cálculo del ROD.\n",
    "* El ROD y el flujo a través de la fuga (leak_flow) tienen correlación lineal de 0.93, es decir, a mayor ROD generado en una tubería, mayor será el volumen equivalente.\n",
    "\n",
    "Al realizar el análisis individual de cada variable con respecto al ROD, se evidencia lo siguiente:\n",
    "\n",
    "\n",
    "* Flow_pipe: no se evidencia correlación lineal con el ROD. Se evidencia que independiente del valor de flujo, el rango de ROD generado es muy parecido, ni siquiera presenta diferencias en sus valores máximos y mínimos.\n",
    "* Pressure: se evidencia que a mayor valor de presión, mayor ROD. \n",
    "* Leak_dia: se evidencia que a mayor tamaño del diámetro de la fuga, se aumenta el ROD.\n",
    "* Leak_distance: no se evidencia correlación lineal con el ROD. Se evidencia que independiente de su valor, el rango de ROD generado es muy parecido, ni siquiera presenta diferencias en sus valores máximos y mínimos.\n",
    "* Entre las variables predictoras no existen relaciones de linealidad fuertes.\n",
    "\n",
    "\n",
    "Se utilizó clustering en 2 grupos para analizar la información, se encontró que los grupos son divididos de acuerdo con el valor del ROD generado. En terminos generales, el valor divisorio es 17 psig aproximadamente. \n",
    "\n"
   ]
  }
 ],
 "metadata": {
  "kernelspec": {
   "display_name": "Python 3",
   "language": "python",
   "name": "python3"
  },
  "language_info": {
   "codemirror_mode": {
    "name": "ipython",
    "version": 3
   },
   "file_extension": ".py",
   "mimetype": "text/x-python",
   "name": "python",
   "nbconvert_exporter": "python",
   "pygments_lexer": "ipython3",
   "version": "3.12.2"
  }
 },
 "nbformat": 4,
 "nbformat_minor": 2
}
